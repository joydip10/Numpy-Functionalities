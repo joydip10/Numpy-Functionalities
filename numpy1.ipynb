{
 "cells": [
  {
   "cell_type": "code",
   "execution_count": 1,
   "metadata": {},
   "outputs": [],
   "source": [
    "import numpy as np"
   ]
  },
  {
   "cell_type": "code",
   "execution_count": 6,
   "metadata": {},
   "outputs": [
    {
     "name": "stdout",
     "output_type": "stream",
     "text": [
      "nums: \n",
      "\n",
      "[[1 2 3]\n",
      " [3 4 5]]\n",
      "pums: \n",
      "\n",
      "[1 2 3]\n"
     ]
    }
   ],
   "source": [
    "nums=[[1,2,3],[3,4,5]]\n",
    "nums=np.array(nums)\n",
    "print('nums: \\n')\n",
    "print(nums)\n",
    "pums=[1,2,3]\n",
    "pums=np.array(pums)\n",
    "print('pums: \\n')\n",
    "print(pums)"
   ]
  },
  {
   "cell_type": "code",
   "execution_count": 16,
   "metadata": {},
   "outputs": [
    {
     "name": "stdout",
     "output_type": "stream",
     "text": [
      "(2, 3)\n",
      "(3,)\n"
     ]
    }
   ],
   "source": [
    "print(nums.shape) # 2D array or matrix\n",
    "print(pums.shape) # 1D array or vectorS"
   ]
  },
  {
   "cell_type": "code",
   "execution_count": 20,
   "metadata": {},
   "outputs": [
    {
     "name": "stdout",
     "output_type": "stream",
     "text": [
      "2\n",
      "1\n"
     ]
    }
   ],
   "source": [
    "print(nums.ndim)\n",
    "print(pums.ndim)"
   ]
  },
  {
   "cell_type": "code",
   "execution_count": 21,
   "metadata": {},
   "outputs": [
    {
     "name": "stdout",
     "output_type": "stream",
     "text": [
      "6\n"
     ]
    }
   ],
   "source": [
    "print(nums.size)"
   ]
  },
  {
   "cell_type": "code",
   "execution_count": 22,
   "metadata": {},
   "outputs": [
    {
     "data": {
      "text/plain": [
       "[[1, 2, 3], [3, 4, 5]]"
      ]
     },
     "execution_count": 22,
     "metadata": {},
     "output_type": "execute_result"
    }
   ],
   "source": [
    "#this will convert numpy array to list\n",
    "nums.tolist()"
   ]
  },
  {
   "cell_type": "code",
   "execution_count": 6,
   "metadata": {},
   "outputs": [],
   "source": [
    "#Numpy Functions---> zeros ,eye, ones, diag, randint, rand,randn"
   ]
  },
  {
   "cell_type": "code",
   "execution_count": 7,
   "metadata": {},
   "outputs": [
    {
     "data": {
      "text/plain": [
       "array([0., 0., 0., 0., 0.])"
      ]
     },
     "execution_count": 7,
     "metadata": {},
     "output_type": "execute_result"
    }
   ],
   "source": [
    "np.zeros(5)"
   ]
  },
  {
   "cell_type": "code",
   "execution_count": 8,
   "metadata": {},
   "outputs": [
    {
     "data": {
      "text/plain": [
       "array([[0., 0., 0.],\n",
       "       [0., 0., 0.]])"
      ]
     },
     "execution_count": 8,
     "metadata": {},
     "output_type": "execute_result"
    }
   ],
   "source": [
    "np.zeros((2,3))"
   ]
  },
  {
   "cell_type": "code",
   "execution_count": 9,
   "metadata": {},
   "outputs": [
    {
     "data": {
      "text/plain": [
       "array([1., 1., 1., 1., 1.])"
      ]
     },
     "execution_count": 9,
     "metadata": {},
     "output_type": "execute_result"
    }
   ],
   "source": [
    "np.ones(5)"
   ]
  },
  {
   "cell_type": "code",
   "execution_count": 10,
   "metadata": {},
   "outputs": [
    {
     "data": {
      "text/plain": [
       "array([[1., 1., 1.],\n",
       "       [1., 1., 1.]])"
      ]
     },
     "execution_count": 10,
     "metadata": {},
     "output_type": "execute_result"
    }
   ],
   "source": [
    "np.ones((2,3))"
   ]
  },
  {
   "cell_type": "code",
   "execution_count": 11,
   "metadata": {},
   "outputs": [
    {
     "data": {
      "text/plain": [
       "array([[1., 0., 0., 0., 0.],\n",
       "       [0., 1., 0., 0., 0.],\n",
       "       [0., 0., 1., 0., 0.],\n",
       "       [0., 0., 0., 1., 0.],\n",
       "       [0., 0., 0., 0., 1.]])"
      ]
     },
     "execution_count": 11,
     "metadata": {},
     "output_type": "execute_result"
    }
   ],
   "source": [
    "np.eye(5)"
   ]
  },
  {
   "cell_type": "code",
   "execution_count": 12,
   "metadata": {},
   "outputs": [
    {
     "data": {
      "text/plain": [
       "array([[1., 0., 0., 0.],\n",
       "       [0., 1., 0., 0.],\n",
       "       [0., 0., 1., 0.]])"
      ]
     },
     "execution_count": 12,
     "metadata": {},
     "output_type": "execute_result"
    }
   ],
   "source": [
    "np.eye(3,4)"
   ]
  },
  {
   "cell_type": "code",
   "execution_count": 13,
   "metadata": {},
   "outputs": [
    {
     "data": {
      "text/plain": [
       "array([[1, 0, 0, 0],\n",
       "       [0, 2, 0, 0],\n",
       "       [0, 0, 3, 0],\n",
       "       [0, 0, 0, 4]])"
      ]
     },
     "execution_count": 13,
     "metadata": {},
     "output_type": "execute_result"
    }
   ],
   "source": [
    "np.diag([1,2,3,4])"
   ]
  },
  {
   "cell_type": "code",
   "execution_count": 14,
   "metadata": {},
   "outputs": [
    {
     "data": {
      "text/plain": [
       "array([2., 3., 4.])"
      ]
     },
     "execution_count": 14,
     "metadata": {},
     "output_type": "execute_result"
    }
   ],
   "source": [
    "arr=[[2., 0., 0., 0.],\n",
    "       [0., 3., 0., 0.],\n",
    "       [0., 0., 4., 0.]]\n",
    "arr=np.array(arr)\n",
    "np.diag(arr) # gives the diagonal element"
   ]
  },
  {
   "cell_type": "code",
   "execution_count": 70,
   "metadata": {},
   "outputs": [
    {
     "data": {
      "text/plain": [
       "array([11, 11,  7, 14])"
      ]
     },
     "execution_count": 70,
     "metadata": {},
     "output_type": "execute_result"
    }
   ],
   "source": [
    "random_arr=np.random.randint(1,15,4) #generates 4 random numbers between 1 and 14\n",
    "random_arr"
   ]
  },
  {
   "cell_type": "code",
   "execution_count": 69,
   "metadata": {},
   "outputs": [
    {
     "data": {
      "text/plain": [
       "array([0.98799529, 0.76599595, 0.77700444, 0.02798196])"
      ]
     },
     "execution_count": 69,
     "metadata": {},
     "output_type": "execute_result"
    }
   ],
   "source": [
    "random_arr=np.random.rand(4) #generates 4 random numbers between 0 and 1 (1D array)\n",
    "random_arr"
   ]
  },
  {
   "cell_type": "code",
   "execution_count": 27,
   "metadata": {},
   "outputs": [
    {
     "name": "stdout",
     "output_type": "stream",
     "text": [
      "[[0.44909227 0.22245619 0.76499598]\n",
      " [0.34136188 0.67942865 0.67095056]]\n",
      "0.5213809231101799\n"
     ]
    }
   ],
   "source": [
    "random_arr=np.random.rand(2,3) #generates 2D array with elements values from 0 to 1\n",
    "print(random_arr)\n",
    "print(np.mean(random_arr))"
   ]
  },
  {
   "cell_type": "code",
   "execution_count": 8,
   "metadata": {},
   "outputs": [
    {
     "data": {
      "text/plain": [
       "array([ 0.1059318 , -1.99033708,  1.39742061,  2.53639818])"
      ]
     },
     "execution_count": 8,
     "metadata": {},
     "output_type": "execute_result"
    }
   ],
   "source": [
    "random_arr=np.random.randn(4) #generates 4 numbers which are 0 centered\n",
    "random_arr"
   ]
  },
  {
   "cell_type": "code",
   "execution_count": 19,
   "metadata": {},
   "outputs": [
    {
     "data": {
      "text/plain": [
       "0.017681669581408047"
      ]
     },
     "execution_count": 19,
     "metadata": {},
     "output_type": "execute_result"
    }
   ],
   "source": [
    "np.mean(random_arr)"
   ]
  },
  {
   "cell_type": "code",
   "execution_count": 20,
   "metadata": {},
   "outputs": [],
   "source": [
    "#Reshaping array"
   ]
  },
  {
   "cell_type": "code",
   "execution_count": 24,
   "metadata": {},
   "outputs": [
    {
     "data": {
      "text/plain": [
       "array([17, 15,  9,  5, 15, 13,  4, 15,  9,  6, 11,  8, 15,  2, 17, 14, 10,\n",
       "       13, 12, 19])"
      ]
     },
     "execution_count": 24,
     "metadata": {},
     "output_type": "execute_result"
    }
   ],
   "source": [
    "arr=np.random.randint(1,20,20)\n",
    "arr"
   ]
  },
  {
   "cell_type": "code",
   "execution_count": 25,
   "metadata": {},
   "outputs": [
    {
     "data": {
      "text/plain": [
       "(20,)"
      ]
     },
     "execution_count": 25,
     "metadata": {},
     "output_type": "execute_result"
    }
   ],
   "source": [
    "arr.ndim\n",
    "arr.shape"
   ]
  },
  {
   "cell_type": "code",
   "execution_count": 26,
   "metadata": {},
   "outputs": [
    {
     "data": {
      "text/plain": [
       "array([[17, 15,  9,  5, 15, 13,  4, 15,  9,  6],\n",
       "       [11,  8, 15,  2, 17, 14, 10, 13, 12, 19]])"
      ]
     },
     "execution_count": 26,
     "metadata": {},
     "output_type": "execute_result"
    }
   ],
   "source": [
    "arr=arr.reshape(2,10) #size 2*10= 20 equal to the size of the previous arr\n",
    "#arr=arr.reshape(20)\n",
    "arr"
   ]
  },
  {
   "cell_type": "code",
   "execution_count": 24,
   "metadata": {},
   "outputs": [],
   "source": [
    "#-1 in reshape"
   ]
  },
  {
   "cell_type": "code",
   "execution_count": 25,
   "metadata": {},
   "outputs": [
    {
     "data": {
      "text/plain": [
       "array([ 1,  2,  3,  4,  5,  6,  7,  8,  9, 10])"
      ]
     },
     "execution_count": 25,
     "metadata": {},
     "output_type": "execute_result"
    }
   ],
   "source": [
    "arr=np.arange(1,11) #arange functions take inputs a and b and generates an 1D array of numbers ranging from a to b-1\n",
    "arr"
   ]
  },
  {
   "cell_type": "code",
   "execution_count": 26,
   "metadata": {},
   "outputs": [
    {
     "data": {
      "text/plain": [
       "array([[ 1,  2,  3,  4,  5],\n",
       "       [ 6,  7,  8,  9, 10]])"
      ]
     },
     "execution_count": 26,
     "metadata": {},
     "output_type": "execute_result"
    }
   ],
   "source": [
    "arr.reshape(2,5)"
   ]
  },
  {
   "cell_type": "code",
   "execution_count": 27,
   "metadata": {},
   "outputs": [
    {
     "data": {
      "text/plain": [
       "array([[ 1,  2,  3,  4,  5],\n",
       "       [ 6,  7,  8,  9, 10]])"
      ]
     },
     "execution_count": 27,
     "metadata": {},
     "output_type": "execute_result"
    }
   ],
   "source": [
    "arr.reshape(2,-1) # here numpy decides which number to fill the -1 place"
   ]
  },
  {
   "cell_type": "code",
   "execution_count": 28,
   "metadata": {},
   "outputs": [
    {
     "data": {
      "text/plain": [
       "10"
      ]
     },
     "execution_count": 28,
     "metadata": {},
     "output_type": "execute_result"
    }
   ],
   "source": [
    "arr.size #returns the size of the array"
   ]
  },
  {
   "cell_type": "code",
   "execution_count": 29,
   "metadata": {},
   "outputs": [],
   "source": [
    "#seed functions"
   ]
  },
  {
   "cell_type": "code",
   "execution_count": 29,
   "metadata": {},
   "outputs": [],
   "source": [
    "np.random.seed(123)\n",
    "arr=np.random.randint(1,101,15)"
   ]
  },
  {
   "cell_type": "code",
   "execution_count": 31,
   "metadata": {},
   "outputs": [
    {
     "data": {
      "text/plain": [
       "15"
      ]
     },
     "execution_count": 31,
     "metadata": {},
     "output_type": "execute_result"
    }
   ],
   "source": [
    "arr.size"
   ]
  },
  {
   "cell_type": "code",
   "execution_count": 32,
   "metadata": {},
   "outputs": [
    {
     "data": {
      "text/plain": [
       "(15,)"
      ]
     },
     "execution_count": 32,
     "metadata": {},
     "output_type": "execute_result"
    }
   ],
   "source": [
    "arr.shape"
   ]
  },
  {
   "cell_type": "code",
   "execution_count": 33,
   "metadata": {},
   "outputs": [
    {
     "data": {
      "text/plain": [
       "1"
      ]
     },
     "execution_count": 33,
     "metadata": {},
     "output_type": "execute_result"
    }
   ],
   "source": [
    "arr.ndim"
   ]
  },
  {
   "cell_type": "code",
   "execution_count": 34,
   "metadata": {},
   "outputs": [],
   "source": [
    "#indexing and slicing of 1D array"
   ]
  },
  {
   "cell_type": "code",
   "execution_count": 35,
   "metadata": {},
   "outputs": [],
   "source": [
    "#indexing and slicing of 2D array"
   ]
  },
  {
   "cell_type": "code",
   "execution_count": 36,
   "metadata": {},
   "outputs": [
    {
     "data": {
      "text/plain": [
       "array([[ 5, 10, 15],\n",
       "       [20, 25, 30],\n",
       "       [35, 40, 45]])"
      ]
     },
     "execution_count": 36,
     "metadata": {},
     "output_type": "execute_result"
    }
   ],
   "source": [
    "arr=np.array([[5,10,15],[20,25,30],[35,40,45]])\n",
    "arr"
   ]
  },
  {
   "cell_type": "code",
   "execution_count": 37,
   "metadata": {},
   "outputs": [
    {
     "name": "stdout",
     "output_type": "stream",
     "text": [
      "10\n",
      "45\n"
     ]
    }
   ],
   "source": [
    "#using double bracket notation calling single elements\n",
    "print(arr[0][1])\n",
    "print(arr[2][2])"
   ]
  },
  {
   "cell_type": "code",
   "execution_count": 38,
   "metadata": {},
   "outputs": [
    {
     "name": "stdout",
     "output_type": "stream",
     "text": [
      "10\n",
      "45\n"
     ]
    }
   ],
   "source": [
    "#using single bracket notation calling single elements\n",
    "print(arr[0,1])\n",
    "print(arr[2,2])"
   ]
  },
  {
   "cell_type": "code",
   "execution_count": 39,
   "metadata": {},
   "outputs": [
    {
     "data": {
      "text/plain": [
       "array([[ 5, 10],\n",
       "       [20, 25]])"
      ]
     },
     "execution_count": 39,
     "metadata": {},
     "output_type": "execute_result"
    }
   ],
   "source": [
    "#slicing using single bracket notation\n",
    "arr\n",
    "arr[0:2,0:2]"
   ]
  },
  {
   "cell_type": "code",
   "execution_count": 40,
   "metadata": {},
   "outputs": [],
   "source": [
    "#view vs copy"
   ]
  },
  {
   "cell_type": "code",
   "execution_count": 36,
   "metadata": {},
   "outputs": [
    {
     "data": {
      "text/plain": [
       "array([[0, 0, 0, 0],\n",
       "       [0, 0, 0, 0]])"
      ]
     },
     "execution_count": 36,
     "metadata": {},
     "output_type": "execute_result"
    }
   ],
   "source": [
    "np.random.seed(123)\n",
    "arr=np.random.randint(1,20,15)\n",
    "sliced_arr=arr[2:10].copy().reshape(2,-1) #if copy() function is not given then the sliced_arr will act as a view of the main array arr\n",
    "sliced_arr[:]=0\n",
    "sliced_arr"
   ]
  },
  {
   "cell_type": "code",
   "execution_count": 14,
   "metadata": {},
   "outputs": [
    {
     "data": {
      "text/plain": [
       "array([14,  3,  3,  7, 18, 11,  2,  1, 18, 16, 10,  1, 15,  1, 16])"
      ]
     },
     "execution_count": 14,
     "metadata": {},
     "output_type": "execute_result"
    }
   ],
   "source": [
    "arr"
   ]
  },
  {
   "cell_type": "code",
   "execution_count": 43,
   "metadata": {},
   "outputs": [],
   "source": [
    "#conditional section"
   ]
  },
  {
   "cell_type": "code",
   "execution_count": 49,
   "metadata": {},
   "outputs": [
    {
     "data": {
      "text/plain": [
       "array([ 1,  2,  3,  4,  5,  6,  7,  8,  9, 10])"
      ]
     },
     "execution_count": 49,
     "metadata": {},
     "output_type": "execute_result"
    }
   ],
   "source": [
    "arr=np.arange(1,11)\n",
    "arr"
   ]
  },
  {
   "cell_type": "code",
   "execution_count": 50,
   "metadata": {},
   "outputs": [
    {
     "data": {
      "text/plain": [
       "array([False, False, False, False, False,  True,  True,  True,  True,\n",
       "        True])"
      ]
     },
     "execution_count": 50,
     "metadata": {},
     "output_type": "execute_result"
    }
   ],
   "source": [
    "mask=arr>5\n",
    "mask"
   ]
  },
  {
   "cell_type": "code",
   "execution_count": 58,
   "metadata": {},
   "outputs": [
    {
     "data": {
      "text/plain": [
       "array([ 6,  7,  8,  9, 10])"
      ]
     },
     "execution_count": 58,
     "metadata": {},
     "output_type": "execute_result"
    }
   ],
   "source": [
    "arr[mask]"
   ]
  },
  {
   "cell_type": "code",
   "execution_count": 52,
   "metadata": {},
   "outputs": [
    {
     "data": {
      "text/plain": [
       "array([ 2,  4,  6,  8, 10])"
      ]
     },
     "execution_count": 52,
     "metadata": {},
     "output_type": "execute_result"
    }
   ],
   "source": [
    "arr[arr%2==0]"
   ]
  },
  {
   "cell_type": "code",
   "execution_count": 53,
   "metadata": {},
   "outputs": [
    {
     "data": {
      "text/plain": [
       "array([ 2,  4,  6,  8, 10])"
      ]
     },
     "execution_count": 53,
     "metadata": {},
     "output_type": "execute_result"
    }
   ],
   "source": [
    "l=[]\n",
    "for i in arr:\n",
    "    if i%2==0:\n",
    "        l.append(i)\n",
    "        \n",
    "np.array(l)"
   ]
  },
  {
   "cell_type": "code",
   "execution_count": 49,
   "metadata": {},
   "outputs": [
    {
     "data": {
      "text/plain": [
       "array([[0.        , 0.24475928, 0.        ],\n",
       "       [0.        , 0.        , 0.        ]])"
      ]
     },
     "execution_count": 49,
     "metadata": {},
     "output_type": "execute_result"
    }
   ],
   "source": [
    "arr=np.random.rand(2,3)\n",
    "arr[arr>.25]=0\n",
    "arr"
   ]
  },
  {
   "cell_type": "code",
   "execution_count": 50,
   "metadata": {},
   "outputs": [],
   "source": [
    "#operations scalar"
   ]
  },
  {
   "cell_type": "code",
   "execution_count": 68,
   "metadata": {},
   "outputs": [
    {
     "data": {
      "text/plain": [
       "array([[ 9,  9, 49],\n",
       "       [ 4, 16, 49],\n",
       "       [ 4,  1,  4],\n",
       "       [ 1,  1, 16],\n",
       "       [25,  1,  1]], dtype=int32)"
      ]
     },
     "execution_count": 68,
     "metadata": {},
     "output_type": "execute_result"
    }
   ],
   "source": [
    "np.random.seed(123)\n",
    "arr=np.random.randint(1,10,15)\n",
    "arr=arr.reshape(5,-1)\n",
    "arr\n",
    "arr+2\n",
    "arr*2\n",
    "arr**2"
   ]
  },
  {
   "cell_type": "code",
   "execution_count": 64,
   "metadata": {},
   "outputs": [],
   "source": [
    "#operations involving two or more arrays"
   ]
  },
  {
   "cell_type": "code",
   "execution_count": 71,
   "metadata": {},
   "outputs": [
    {
     "name": "stdout",
     "output_type": "stream",
     "text": [
      "[14  3 13  3  7  2  4 11 12 10  7  2  1  2 10]\n",
      "[ 1  1 10  4 14  5  1  1  5  2  8  4  3  5  8]\n"
     ]
    }
   ],
   "source": [
    "np.random.seed(123)\n",
    "arr1=np.random.randint(1,15,15)\n",
    "arr2=np.random.randint(1,15,15)\n",
    "print(arr1)\n",
    "print(arr2)"
   ]
  },
  {
   "cell_type": "code",
   "execution_count": 54,
   "metadata": {},
   "outputs": [
    {
     "data": {
      "text/plain": [
       "array([14.        ,  3.        ,  1.3       ,  0.75      ,  0.5       ,\n",
       "        0.4       ,  4.        , 11.        ,  2.4       ,  5.        ,\n",
       "        0.875     ,  0.5       ,  0.33333333,  0.4       ,  1.25      ])"
      ]
     },
     "execution_count": 54,
     "metadata": {},
     "output_type": "execute_result"
    }
   ],
   "source": [
    "arr1+arr2\n",
    "arr1*arr2\n",
    "arr1**arr2\n",
    "arr1/arr2"
   ]
  },
  {
   "cell_type": "code",
   "execution_count": 55,
   "metadata": {},
   "outputs": [],
   "source": [
    "#some useful functions"
   ]
  },
  {
   "cell_type": "code",
   "execution_count": 73,
   "metadata": {},
   "outputs": [
    {
     "name": "stdout",
     "output_type": "stream",
     "text": [
      "Array:\n",
      "[[3 3 7]\n",
      " [2 4 7]\n",
      " [2 1 2]\n",
      " [1 1 4]\n",
      " [5 1 1]]\n",
      "Mean of the array 2.933333333333333\n",
      "Minimum of the array 1\n",
      "Maximum of the array 7\n",
      "Argmin 7\n",
      "Argmax 2\n",
      "Square Root [[1.73205081 1.73205081 2.64575131]\n",
      " [1.41421356 2.         2.64575131]\n",
      " [1.41421356 1.         1.41421356]\n",
      " [1.         1.         2.        ]\n",
      " [2.23606798 1.         1.        ]]\n",
      "Exponent [[  20.08553692   20.08553692 1096.63315843]\n",
      " [   7.3890561    54.59815003 1096.63315843]\n",
      " [   7.3890561     2.71828183    7.3890561 ]\n",
      " [   2.71828183    2.71828183   54.59815003]\n",
      " [ 148.4131591     2.71828183    2.71828183]]\n",
      "Sin [[ 0.14112001  0.14112001  0.6569866 ]\n",
      " [ 0.90929743 -0.7568025   0.6569866 ]\n",
      " [ 0.90929743  0.84147098  0.90929743]\n",
      " [ 0.84147098  0.84147098 -0.7568025 ]\n",
      " [-0.95892427  0.84147098  0.84147098]]\n",
      "Cos [[-0.9899925  -0.9899925   0.75390225]\n",
      " [-0.41614684 -0.65364362  0.75390225]\n",
      " [-0.41614684  0.54030231 -0.41614684]\n",
      " [ 0.54030231  0.54030231 -0.65364362]\n",
      " [ 0.28366219  0.54030231  0.54030231]]\n",
      "Linspace [ 1.          1.28571429  1.57142857  1.85714286  2.14285714  2.42857143\n",
      "  2.71428571  3.          3.28571429  3.57142857  3.85714286  4.14285714\n",
      "  4.42857143  4.71428571  5.          5.28571429  5.57142857  5.85714286\n",
      "  6.14285714  6.42857143  6.71428571  7.          7.28571429  7.57142857\n",
      "  7.85714286  8.14285714  8.42857143  8.71428571  9.          9.28571429\n",
      "  9.57142857  9.85714286 10.14285714 10.42857143 10.71428571 11.\n",
      " 11.28571429 11.57142857 11.85714286 12.14285714 12.42857143 12.71428571\n",
      " 13.         13.28571429 13.57142857 13.85714286 14.14285714 14.42857143\n",
      " 14.71428571 15.        ]\n",
      "Array:  [ True  True  True False]\n"
     ]
    }
   ],
   "source": [
    "print('Array:');\n",
    "print(arr)\n",
    "print('Mean of the array',np.mean(arr));\n",
    "print('Minimum of the array',np.min(arr));\n",
    "print('Maximum of the array',np.max(arr));\n",
    "print('Argmin',np.argmin(arr));  #gives the position of the minimum number\n",
    "print('Argmax',np.argmax(arr));\n",
    "print('Square Root',np.sqrt(arr));\n",
    "print('Exponent',np.exp(arr));#euler number takes the matrix element to find exponent\n",
    "print('Sin',np.sin(arr));\n",
    "print('Cos',np.cos(arr));\n",
    "print('Linspace',np.linspace(1,15,50)); #gives 50 numbers between 1 to 15 which are evenly spaced\n",
    "print('Array: ',np.array([1,2,3,0],dtype='bool'));"
   ]
  },
  {
   "cell_type": "code",
   "execution_count": 57,
   "metadata": {},
   "outputs": [
    {
     "data": {
      "text/plain": [
       "75"
      ]
     },
     "execution_count": 57,
     "metadata": {},
     "output_type": "execute_result"
    }
   ],
   "source": [
    "np.sum(arr)"
   ]
  },
  {
   "cell_type": "code",
   "execution_count": 58,
   "metadata": {},
   "outputs": [
    {
     "data": {
      "text/plain": [
       "9"
      ]
     },
     "execution_count": 58,
     "metadata": {},
     "output_type": "execute_result"
    }
   ],
   "source": [
    "np.max(arr)"
   ]
  },
  {
   "cell_type": "code",
   "execution_count": 18,
   "metadata": {},
   "outputs": [
    {
     "name": "stdout",
     "output_type": "stream",
     "text": [
      "[[ 1.          1.73684211  2.47368421  3.21052632  3.94736842]\n",
      " [ 4.68421053  5.42105263  6.15789474  6.89473684  7.63157895]\n",
      " [ 8.36842105  9.10526316  9.84210526 10.57894737 11.31578947]\n",
      " [12.05263158 12.78947368 13.52631579 14.26315789 15.        ]]\n",
      "15.0\n",
      "19\n"
     ]
    }
   ],
   "source": [
    "test_array=np.linspace(1,15,20).reshape(4,5)\n",
    "print(test_array)\n",
    "print(test_array.max())\n",
    "print(test_array.argmax())"
   ]
  },
  {
   "cell_type": "code",
   "execution_count": 59,
   "metadata": {},
   "outputs": [
    {
     "data": {
      "text/plain": [
       "4"
      ]
     },
     "execution_count": 59,
     "metadata": {},
     "output_type": "execute_result"
    }
   ],
   "source": [
    "np.argmax(arr)"
   ]
  },
  {
   "cell_type": "code",
   "execution_count": 60,
   "metadata": {},
   "outputs": [
    {
     "name": "stdout",
     "output_type": "stream",
     "text": [
      "[[5 8 3]\n",
      " [5 9 1]\n",
      " [8 4 5]\n",
      " [7 2 6]\n",
      " [7 3 2]]\n",
      "[3 1 4 2 2]\n",
      "[5 2 1]\n"
     ]
    }
   ],
   "source": [
    "print(arr)\n",
    "print(np.min(arr,axis=1))\n",
    "print(np.min(arr,axis=0))"
   ]
  },
  {
   "cell_type": "code",
   "execution_count": 75,
   "metadata": {},
   "outputs": [
    {
     "name": "stdout",
     "output_type": "stream",
     "text": [
      "[[3 3 7 2 4]\n",
      " [7 2 1 2 1]\n",
      " [1 4 5 1 1]]\n",
      "[11  9 13  5  6]\n",
      "[19 13 12]\n",
      "[21 24 35  4  4]\n",
      "[[ 3  6 13 15 19]\n",
      " [ 7  9 10 12 13]\n",
      " [ 1  5 10 11 12]]\n"
     ]
    }
   ],
   "source": [
    "arr=arr.reshape(3,-1)\n",
    "print(arr)\n",
    "print(np.sum(arr,axis=0))\n",
    "print(np.sum(arr,axis=1))\n",
    "print(np.prod(arr,axis=0))\n",
    "\n",
    "print(np.cumsum(arr,axis=1))"
   ]
  },
  {
   "cell_type": "code",
   "execution_count": 78,
   "metadata": {},
   "outputs": [
    {
     "name": "stdout",
     "output_type": "stream",
     "text": [
      "[3 3 7 2 4 7 2 1 2 1 1 4 5 1 1 5 2 8 4 3]\n",
      "None\n",
      "[1 2 3 4 5 7 8]\n"
     ]
    }
   ],
   "source": [
    "np.random.seed(123)\n",
    "arr=np.random.randint(1,10,20)\n",
    "print(arr)\n",
    "print(np.random.shuffle(arr))\n",
    "print(np.unique(arr))"
   ]
  },
  {
   "cell_type": "code",
   "execution_count": 79,
   "metadata": {},
   "outputs": [
    {
     "name": "stdout",
     "output_type": "stream",
     "text": [
      "[2 4 3 1 4 1 8 1 7 3 2 4 5 2 1 3 2 5 7 1]\n"
     ]
    },
    {
     "data": {
      "text/plain": [
       "(array([1, 2, 3, 4, 5, 7, 8]),\n",
       " array([ 3,  0,  2,  1, 12,  8,  6], dtype=int32),\n",
       " array([5, 4, 3, 3, 2, 2, 1]))"
      ]
     },
     "execution_count": 79,
     "metadata": {},
     "output_type": "execute_result"
    }
   ],
   "source": [
    "print(arr)\n",
    "\n",
    "np.unique(arr,return_index=True,return_counts=True)"
   ]
  },
  {
   "cell_type": "code",
   "execution_count": 64,
   "metadata": {},
   "outputs": [],
   "source": [
    "#horizontal and vertical stacking\n"
   ]
  },
  {
   "cell_type": "code",
   "execution_count": 65,
   "metadata": {},
   "outputs": [
    {
     "name": "stdout",
     "output_type": "stream",
     "text": [
      "[[14  3  3  7 18 15  5  1 17  5]\n",
      " [11  2  1 18 16 18  4  3  8  3]\n",
      " [10  1 15  1 16 16 17  8 10  4]]\n",
      "\n",
      "\n",
      "[[14  3  3  7 18]\n",
      " [11  2  1 18 16]\n",
      " [10  1 15  1 16]\n",
      " [15  5  1 17  5]\n",
      " [18  4  3  8  3]\n",
      " [16 17  8 10  4]]\n"
     ]
    }
   ],
   "source": [
    "np.random.seed(123)\n",
    "arr=np.random.randint(1,20,15).reshape(3,5)\n",
    "prr=np.random.randint(1,20,15).reshape(3,5)\n",
    "print(np.hstack((arr,prr)))\n",
    "print('\\n')\n",
    "print(np.vstack((arr,prr)))"
   ]
  },
  {
   "cell_type": "code",
   "execution_count": 80,
   "metadata": {},
   "outputs": [
    {
     "name": "stdout",
     "output_type": "stream",
     "text": [
      "[2 4 3 1 4 1 8 1 7 3 2 4 5 2 1 3 2 5 7 1]\n"
     ]
    },
    {
     "data": {
      "text/plain": [
       "(array([1, 2, 3, 4, 5, 7, 8]),\n",
       " array([ 3,  0,  2,  1, 12,  8,  6], dtype=int32),\n",
       " array([5, 4, 3, 3, 2, 2, 1]))"
      ]
     },
     "execution_count": 80,
     "metadata": {},
     "output_type": "execute_result"
    }
   ],
   "source": [
    "print(arr)\n",
    "np.unique(arr,return_index=True,return_counts=True)"
   ]
  },
  {
   "cell_type": "code",
   "execution_count": null,
   "metadata": {},
   "outputs": [],
   "source": []
  }
 ],
 "metadata": {
  "kernelspec": {
   "display_name": "Python 3",
   "language": "python",
   "name": "python3"
  },
  "language_info": {
   "codemirror_mode": {
    "name": "ipython",
    "version": 3
   },
   "file_extension": ".py",
   "mimetype": "text/x-python",
   "name": "python",
   "nbconvert_exporter": "python",
   "pygments_lexer": "ipython3",
   "version": "3.7.0"
  }
 },
 "nbformat": 4,
 "nbformat_minor": 2
}
